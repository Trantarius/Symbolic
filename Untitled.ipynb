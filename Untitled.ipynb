{
 "cells": [
  {
   "cell_type": "code",
   "execution_count": 1,
   "id": "1182d0b1-7cb4-4e1d-a8f7-e9741e0ae8d8",
   "metadata": {},
   "outputs": [
    {
     "data": {
      "text/plain": [
       "qa:\t1+2+3+4+5\n"
      ]
     },
     "execution_count": 1,
     "metadata": {},
     "output_type": "execute_result"
    },
    {
     "data": {
      "text/plain": [
       "qb:\t(((1-2)-3)-4)-5\n"
      ]
     },
     "execution_count": 1,
     "metadata": {},
     "output_type": "execute_result"
    },
    {
     "data": {
      "text/plain": [
       "qc:\t(((1^2)^3)^4)^5\n"
      ]
     },
     "execution_count": 1,
     "metadata": {},
     "output_type": "execute_result"
    },
    {
     "ename": "SyntaxError",
     "evalue": "cannot parse '(a+b+c)+((1-2-3)*(x/y/z)-(a--b)/-e + - c*((-3)))'",
     "output_type": "error",
     "traceback": []
    }
   ],
   "source": [
    "qa : 1+2+3+4+5\n",
    "qb : 1-2-3-4-5\n",
    "qc : 1^2^3^4^5\n",
    "qd : (a+b+c)+((1-2-3)*(x/y/z)-(a--b)/-e + - c*((-3)))"
   ]
  },
  {
   "cell_type": "code",
   "execution_count": 2,
   "id": "0059b769-7736-4f26-a1e1-1b14e04168a4",
   "metadata": {},
   "outputs": [
    {
     "data": {
      "text/plain": [
       "qd:\t\tSub\n",
       "\t  ├╴Sub\n",
       "\t  │ ├╴Sub\n",
       "\t  │ │ ├╴Mul\n",
       "\t  │ │ │ ├╴1\n",
       "\t  │ │ │ ╰╴Neg\n",
       "\t  │ │ │   ╰╴2\n",
       "\t  │ │ ╰╴Mul\n",
       "\t  │ │   ├╴3\n",
       "\t  │ │   ╰╴Neg\n",
       "\t  │ │     ╰╴4\n",
       "\t  │ ╰╴Mul\n",
       "\t  │   ├╴5\n",
       "\t  │   ╰╴Neg\n",
       "\t  │     ╰╴6\n",
       "\t  ╰╴Mul\n",
       "\t    ├╴7\n",
       "\t    ├╴Neg\n",
       "\t    │ ╰╴8\n",
       "\t    ╰╴9\n"
      ]
     },
     "execution_count": 2,
     "metadata": {},
     "output_type": "execute_result"
    }
   ],
   "source": [
    "$showtree qd"
   ]
  },
  {
   "cell_type": "code",
   "execution_count": null,
   "id": "015686a0-ac18-412f-88ec-07cb3befe8c7",
   "metadata": {},
   "outputs": [],
   "source": []
  }
 ],
 "metadata": {
  "kernelspec": {
   "display_name": "symbolic",
   "language": "symbolic",
   "name": "symbolic"
  },
  "language_info": {
   "codemirror_mode": "",
   "file_extension": ".sym",
   "mimetype": "text/plain",
   "name": "symbolic",
   "nbconvert_exporter": "",
   "pygments_lexer": "",
   "version": "0.0"
  }
 },
 "nbformat": 4,
 "nbformat_minor": 5
}
